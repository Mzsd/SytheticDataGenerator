{
 "cells": [
  {
   "cell_type": "code",
   "execution_count": 5,
   "metadata": {},
   "outputs": [],
   "source": [
    "from sqlalchemy import create_engine\n",
    "from datetime import datetime, time\n",
    "from dotenv import load_dotenv\n",
    "import pandas as pd\n",
    "import psycopg2\n",
    "import random\n",
    "import os"
   ]
  },
  {
   "cell_type": "code",
   "execution_count": 6,
   "metadata": {},
   "outputs": [
    {
     "data": {
      "text/plain": [
       "True"
      ]
     },
     "execution_count": 6,
     "metadata": {},
     "output_type": "execute_result"
    }
   ],
   "source": [
    "load_dotenv()"
   ]
  },
  {
   "cell_type": "code",
   "execution_count": 8,
   "metadata": {},
   "outputs": [],
   "source": [
    "engine = create_engine(\n",
    "    f'postgresql://{os.getenv(\"POSTGRES_USER\")}:'\n",
    "    f'{os.getenv(\"POSTGRES_PASSWORD\")}@{os.getenv(\"POSTGRES_HOST\")}:'\n",
    "    f'{os.getenv(\"POSTGRES_PORT\")}/{os.getenv(\"POSTGRES_DB\")}'\n",
    ")\n",
    "\n",
    "# Connect to the engine\n",
    "conn = engine.connect()\n",
    "\n",
    "# Query the database\n",
    "sorted_uniq_pizza_df = pd.read_sql(\"SELECT * FROM pizza\", conn)"
   ]
  },
  {
   "cell_type": "code",
   "execution_count": 9,
   "metadata": {},
   "outputs": [],
   "source": [
    "numbers = list(range(0, len(sorted_uniq_pizza_df)))\n",
    "weights = (1 / sorted_uniq_pizza_df['unit_price']).to_list()"
   ]
  },
  {
   "cell_type": "code",
   "execution_count": 10,
   "metadata": {},
   "outputs": [
    {
     "data": {
      "text/plain": [
       "pizza_id                              prsc_argla_l\n",
       "pizza_name        The Prosciutto and Arugula Pizza\n",
       "pizza_size                                       L\n",
       "pizza_category                             Supreme\n",
       "unit_price                                   20.75\n",
       "Name: 56, dtype: object"
      ]
     },
     "execution_count": 10,
     "metadata": {},
     "output_type": "execute_result"
    }
   ],
   "source": [
    "sorted_uniq_pizza_df.iloc[56]"
   ]
  },
  {
   "cell_type": "code",
   "execution_count": 11,
   "metadata": {},
   "outputs": [],
   "source": [
    "weights = (1 / sorted_uniq_pizza_df['unit_price']).to_list()"
   ]
  },
  {
   "cell_type": "code",
   "execution_count": 13,
   "metadata": {},
   "outputs": [
    {
     "data": {
      "text/plain": [
       "9.75"
      ]
     },
     "execution_count": 13,
     "metadata": {},
     "output_type": "execute_result"
    }
   ],
   "source": [
    "penalty_factor = 0.1\n",
    "max_weight = max(weights)\n",
    "\n",
    "penalized_weights = [weight if weight == max_weight else weight * penalty_factor for weight in weights]\n",
    "sorted_uniq_pizza_df['unit_price'][random.choices(numbers, penalized_weights)[0]]"
   ]
  },
  {
   "cell_type": "code",
   "execution_count": 70,
   "metadata": {},
   "outputs": [
    {
     "data": {
      "text/plain": [
       "1"
      ]
     },
     "execution_count": 70,
     "metadata": {},
     "output_type": "execute_result"
    }
   ],
   "source": [
    "first_prob = 0.8\n",
    "pizza_weights = [first_prob] + [\n",
    "    (1 - first_prob) / (i - 1 ) ** 2\n",
    "    for i in numbers[2:]\n",
    "]\n",
    "\n",
    "num_pizzas = random.choices(numbers[1:], pizza_weights)[0]\n",
    "num_pizzas"
   ]
  },
  {
   "cell_type": "code",
   "execution_count": null,
   "metadata": {},
   "outputs": [
    {
     "data": {
      "text/plain": [
       "2"
      ]
     },
     "execution_count": 52,
     "metadata": {},
     "output_type": "execute_result"
    }
   ],
   "source": [
    "qty = list(range(1, 11))\n",
    "first_prob = 0.8\n",
    "pizza_weights = [first_prob] + [\n",
    "    (1 - first_prob) / (i - 1 ) ** 2\n",
    "    for i in qty[1:]\n",
    "]\n",
    "\n",
    "qty_pizzas = random.choices(qty, pizza_weights)[0]\n",
    "qty_pizzas"
   ]
  },
  {
   "cell_type": "code",
   "execution_count": null,
   "metadata": {},
   "outputs": [],
   "source": []
  }
 ],
 "metadata": {
  "kernelspec": {
   "display_name": "base",
   "language": "python",
   "name": "python3"
  },
  "language_info": {
   "codemirror_mode": {
    "name": "ipython",
    "version": 3
   },
   "file_extension": ".py",
   "mimetype": "text/x-python",
   "name": "python",
   "nbconvert_exporter": "python",
   "pygments_lexer": "ipython3",
   "version": "3.11.5"
  }
 },
 "nbformat": 4,
 "nbformat_minor": 2
}
