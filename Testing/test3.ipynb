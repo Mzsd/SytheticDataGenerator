{
 "cells": [
  {
   "cell_type": "code",
   "execution_count": 1,
   "metadata": {},
   "outputs": [],
   "source": [
    "from sqlalchemy import create_engine\n",
    "from dotenv import load_dotenv\n",
    "import pandas as pd\n",
    "import psycopg2\n",
    "import datetime\n",
    "import random\n",
    "import os"
   ]
  },
  {
   "cell_type": "code",
   "execution_count": 2,
   "metadata": {},
   "outputs": [
    {
     "data": {
      "text/plain": [
       "True"
      ]
     },
     "execution_count": 2,
     "metadata": {},
     "output_type": "execute_result"
    }
   ],
   "source": [
    "load_dotenv()"
   ]
  },
  {
   "cell_type": "code",
   "execution_count": 3,
   "metadata": {},
   "outputs": [],
   "source": [
    "df = pd.read_excel('Data Model - Pizza Sales.xlsx')"
   ]
  },
  {
   "cell_type": "code",
   "execution_count": 4,
   "metadata": {},
   "outputs": [],
   "source": [
    "df['order_date'] = df['order_date'].astype(str)\n",
    "df['order_time'] = df['order_time'].astype(str)"
   ]
  },
  {
   "cell_type": "code",
   "execution_count": 5,
   "metadata": {},
   "outputs": [
    {
     "data": {
      "text/plain": [
       "0       2015-01-01 11:38:36\n",
       "1       2015-01-01 11:57:40\n",
       "2       2015-01-01 11:57:40\n",
       "3       2015-01-01 11:57:40\n",
       "4       2015-01-01 11:57:40\n",
       "                ...        \n",
       "48615   2015-12-31 21:23:10\n",
       "48616   2015-12-31 21:23:10\n",
       "48617   2015-12-31 21:23:10\n",
       "48618   2015-12-31 22:09:54\n",
       "48619   2015-12-31 23:02:05\n",
       "Name: order_datetime, Length: 48620, dtype: datetime64[ns]"
      ]
     },
     "execution_count": 5,
     "metadata": {},
     "output_type": "execute_result"
    }
   ],
   "source": [
    "df['order_datetime'] = pd.to_datetime(df['order_date'] + ' ' + df['order_time'])\n",
    "df['order_datetime']"
   ]
  },
  {
   "cell_type": "code",
   "execution_count": 6,
   "metadata": {},
   "outputs": [],
   "source": [
    "df['order_hour'] = df['order_datetime'].dt.hour"
   ]
  },
  {
   "cell_type": "code",
   "execution_count": 7,
   "metadata": {},
   "outputs": [],
   "source": [
    "df['weekday'] = df['order_datetime'].dt.day_name()\n",
    "\n",
    "# Group by 'weekday' and count the number of orders for each weekday\n",
    "orders_per_weekday = df.groupby('weekday').size()"
   ]
  },
  {
   "cell_type": "code",
   "execution_count": 8,
   "metadata": {},
   "outputs": [
    {
     "data": {
      "text/html": [
       "<div>\n",
       "<style scoped>\n",
       "    .dataframe tbody tr th:only-of-type {\n",
       "        vertical-align: middle;\n",
       "    }\n",
       "\n",
       "    .dataframe tbody tr th {\n",
       "        vertical-align: top;\n",
       "    }\n",
       "\n",
       "    .dataframe thead th {\n",
       "        text-align: right;\n",
       "    }\n",
       "</style>\n",
       "<table border=\"1\" class=\"dataframe\">\n",
       "  <thead>\n",
       "    <tr style=\"text-align: right;\">\n",
       "      <th></th>\n",
       "      <th>order_hour</th>\n",
       "      <th>order_weekday</th>\n",
       "      <th>order_count</th>\n",
       "    </tr>\n",
       "  </thead>\n",
       "  <tbody>\n",
       "    <tr>\n",
       "      <th>0</th>\n",
       "      <td>9</td>\n",
       "      <td>Tuesday</td>\n",
       "      <td>4</td>\n",
       "    </tr>\n",
       "    <tr>\n",
       "      <th>1</th>\n",
       "      <td>10</td>\n",
       "      <td>Monday</td>\n",
       "      <td>3</td>\n",
       "    </tr>\n",
       "    <tr>\n",
       "      <th>2</th>\n",
       "      <td>10</td>\n",
       "      <td>Saturday</td>\n",
       "      <td>3</td>\n",
       "    </tr>\n",
       "    <tr>\n",
       "      <th>3</th>\n",
       "      <td>10</td>\n",
       "      <td>Sunday</td>\n",
       "      <td>2</td>\n",
       "    </tr>\n",
       "    <tr>\n",
       "      <th>4</th>\n",
       "      <td>10</td>\n",
       "      <td>Thursday</td>\n",
       "      <td>5</td>\n",
       "    </tr>\n",
       "    <tr>\n",
       "      <th>...</th>\n",
       "      <td>...</td>\n",
       "      <td>...</td>\n",
       "      <td>...</td>\n",
       "    </tr>\n",
       "    <tr>\n",
       "      <th>90</th>\n",
       "      <td>23</td>\n",
       "      <td>Friday</td>\n",
       "      <td>26</td>\n",
       "    </tr>\n",
       "    <tr>\n",
       "      <th>91</th>\n",
       "      <td>23</td>\n",
       "      <td>Monday</td>\n",
       "      <td>4</td>\n",
       "    </tr>\n",
       "    <tr>\n",
       "      <th>92</th>\n",
       "      <td>23</td>\n",
       "      <td>Saturday</td>\n",
       "      <td>31</td>\n",
       "    </tr>\n",
       "    <tr>\n",
       "      <th>93</th>\n",
       "      <td>23</td>\n",
       "      <td>Sunday</td>\n",
       "      <td>4</td>\n",
       "    </tr>\n",
       "    <tr>\n",
       "      <th>94</th>\n",
       "      <td>23</td>\n",
       "      <td>Thursday</td>\n",
       "      <td>3</td>\n",
       "    </tr>\n",
       "  </tbody>\n",
       "</table>\n",
       "<p>95 rows × 3 columns</p>\n",
       "</div>"
      ],
      "text/plain": [
       "    order_hour order_weekday  order_count\n",
       "0            9       Tuesday            4\n",
       "1           10        Monday            3\n",
       "2           10      Saturday            3\n",
       "3           10        Sunday            2\n",
       "4           10      Thursday            5\n",
       "..         ...           ...          ...\n",
       "90          23        Friday           26\n",
       "91          23        Monday            4\n",
       "92          23      Saturday           31\n",
       "93          23        Sunday            4\n",
       "94          23      Thursday            3\n",
       "\n",
       "[95 rows x 3 columns]"
      ]
     },
     "execution_count": 8,
     "metadata": {},
     "output_type": "execute_result"
    }
   ],
   "source": [
    "df['order_hour'] = df['order_datetime'].dt.hour\n",
    "\n",
    "df['order_weekday'] = df['order_datetime'].dt.day_name()\n",
    "\n",
    "orders_per_hour_weekday = df.groupby(['order_hour', 'order_weekday']).size().reset_index(name='order_count')\n",
    "\n",
    "orders_per_hour_weekday"
   ]
  },
  {
   "cell_type": "code",
   "execution_count": 9,
   "metadata": {},
   "outputs": [],
   "source": [
    "orders_per_hour = df.groupby('order_hour').size()"
   ]
  },
  {
   "cell_type": "code",
   "execution_count": 10,
   "metadata": {},
   "outputs": [],
   "source": [
    "orders_per_hour_weekday['original_order_count'] = orders_per_hour_weekday['order_count']\n",
    "\n",
    "order_multiplier = round(random.uniform(1, 6), 6)\n",
    "orders_per_hour_weekday['order_count'] = orders_per_hour_weekday['original_order_count'] * order_multiplier"
   ]
  },
  {
   "cell_type": "code",
   "execution_count": 11,
   "metadata": {},
   "outputs": [],
   "source": [
    "orders_per_hour_weekday['order_count'] = orders_per_hour_weekday['original_order_count'].astype('int32')"
   ]
  },
  {
   "cell_type": "code",
   "execution_count": 12,
   "metadata": {},
   "outputs": [
    {
     "data": {
      "text/plain": [
       "54    757\n",
       "Name: order_count, dtype: int32"
      ]
     },
     "execution_count": 12,
     "metadata": {},
     "output_type": "execute_result"
    }
   ],
   "source": [
    "orders_per_hour_weekday[\n",
    "    (orders_per_hour_weekday['order_weekday'] == datetime.datetime.now().strftime(\"%A\") )\n",
    "    &\n",
    "    (orders_per_hour_weekday['order_hour'] == datetime.datetime.now().hour)\n",
    "]['order_count']"
   ]
  },
  {
   "cell_type": "code",
   "execution_count": 38,
   "metadata": {},
   "outputs": [
    {
     "name": "stdout",
     "output_type": "stream",
     "text": [
      "193.7742890045244\n",
      "194\n"
     ]
    }
   ],
   "source": [
    "import numpy as np\n",
    "\n",
    "# Your target number\n",
    "target_number = orders_per_hour_weekday[\n",
    "    # (orders_per_hour_weekday['order_weekday'] == datetime.datetime.now().strftime(\"%A\"))\n",
    "    (orders_per_hour_weekday['order_weekday'] == \"Tuesday\")\n",
    "    &\n",
    "    # (orders_per_hour_weekday['order_hour'] == datetime.datetime.now().hour)\n",
    "    (orders_per_hour_weekday['order_hour'] == 10)\n",
    "]['order_count'].max()\n",
    "\n",
    "target_number = target_number if not np.isnan(target_number) else random.randint(0, 300)\n",
    "\n",
    "# Standard deviation (smaller values mean the number is more likely to be close to the target)\n",
    "std_dev = int(target_number * .3)\n",
    "\n",
    "# Generate a random number close to the target number\n",
    "random_number = np.random.normal(loc=target_number, scale=std_dev)\n",
    "\n",
    "# If you need the number to be an integer, you can round it\n",
    "random_number_rounded = int(round(random_number))\n",
    "\n",
    "print(random_number)  # This will print the generated number\n",
    "print(random_number_rounded)  # This will print the rounded number"
   ]
  },
  {
   "cell_type": "code",
   "execution_count": 15,
   "metadata": {},
   "outputs": [
    {
     "name": "stdout",
     "output_type": "stream",
     "text": [
      "[1, 5, 16, 35, 46, 47, 49, 51, 54, 55, 57, 59, 61, 62, 66, 67, 72, 73, 74, 77, 80, 100, 104, 106, 112, 113, 123, 137, 140, 164, 169, 170, 173, 180, 188, 189, 189, 191, 191, 192, 206, 210, 214, 218, 221, 225, 229, 230, 236, 245, 246, 251, 255, 257, 260, 265, 276, 278, 279, 299, 304, 305, 314, 322, 333, 334, 335, 337, 340, 343, 350, 354, 357, 382, 382, 385, 385, 406, 412, 413, 414, 416, 425, 430, 433, 445, 446, 448, 451, 461, 474, 496, 497, 503, 505, 507, 510, 516, 529, 530, 534, 538, 540, 547, 552, 557, 565, 570, 572, 575, 582, 586, 597, 600, 611, 613, 614, 617, 622, 622, 631, 636, 639, 642, 662, 665, 676, 676, 679, 698, 700, 704, 736, 737, 740, 762, 793, 794, 795, 814, 817, 827, 838, 847, 849, 859, 860, 866, 866, 867, 871, 876, 890, 895, 902, 905, 905, 909, 910, 924, 925, 939, 948, 953, 954, 970, 972, 973, 976, 979, 985, 998, 999, 1000, 1016, 1018, 1020, 1026, 1033, 1044, 1054, 1059, 1060, 1063, 1068, 1075, 1075, 1081, 1081, 1096, 1102, 1107, 1114, 1118, 1123, 1128, 1130, 1133, 1136, 1137, 1144, 1147, 1148, 1153, 1171, 1173, 1176, 1177, 1179, 1185, 1188, 1189, 1193, 1194, 1195, 1197, 1200, 1209, 1217, 1224, 1224, 1226, 1230, 1233, 1236, 1236, 1237, 1241, 1244, 1249, 1249, 1256, 1256, 1256, 1261, 1264, 1270, 1280, 1290, 1292, 1292, 1293, 1305, 1306, 1313, 1317, 1332, 1345, 1350, 1360, 1374, 1377, 1378, 1382, 1382, 1394, 1396, 1400, 1403, 1403, 1410, 1425, 1428, 1430, 1431, 1436, 1440, 1466, 1467, 1479, 1479, 1493, 1501, 1503, 1504, 1508, 1510, 1515, 1528, 1529, 1533, 1547, 1551, 1569, 1569, 1576, 1579, 1584, 1599, 1600, 1604, 1611, 1619, 1631, 1631, 1644, 1646, 1649, 1668, 1679, 1700, 1701, 1707, 1711, 1714, 1718, 1722, 1738, 1739, 1745, 1747, 1749, 1753, 1755, 1769, 1776, 1780, 1784, 1785, 1791, 1806, 1842, 1847, 1853, 1857, 1888, 1905, 1912, 1915, 1915, 1915, 1918, 1926, 1928, 1931, 1950, 1954, 1958, 1964, 1969, 1974, 1987, 1987, 2004, 2015, 2015, 2027, 2036, 2049, 2054, 2055, 2063, 2068, 2074, 2074, 2078, 2080, 2091, 2098, 2113, 2121, 2123, 2124, 2125, 2129, 2138, 2139, 2142, 2147, 2150, 2150, 2151, 2152, 2156, 2167, 2189, 2192, 2194, 2196, 2197, 2199, 2209, 2209, 2222, 2224, 2234, 2239, 2240, 2240, 2244, 2250, 2257, 2258, 2261, 2273, 2277, 2289, 2292, 2295, 2298, 2309, 2312, 2315, 2315, 2319, 2320, 2327, 2338, 2338, 2344, 2345, 2349, 2358, 2364, 2366, 2371, 2372, 2374, 2383, 2389, 2390, 2393, 2393, 2398, 2405, 2406, 2409, 2412, 2414, 2420, 2429, 2433, 2434, 2436, 2443, 2446, 2451, 2452, 2452, 2453, 2456, 2464, 2466, 2467, 2495, 2504, 2506, 2507, 2510, 2512, 2514, 2517, 2517, 2521, 2524, 2538, 2540, 2541, 2547, 2566, 2572, 2587, 2592, 2599, 2608, 2612, 2620, 2623, 2623, 2627, 2631, 2639, 2640, 2641, 2667, 2680, 2683, 2685, 2702, 2705, 2712, 2712, 2722, 2738, 2740, 2740, 2741, 2745, 2748, 2748, 2763, 2773, 2799, 2808, 2814, 2815, 2817, 2819, 2824, 2829, 2837, 2844, 2857, 2858, 2859, 2860, 2863, 2867, 2868, 2874, 2876, 2879, 2886, 2894, 2894, 2897, 2904, 2908, 2910, 2917, 2920, 2922, 2924, 2932, 2942, 2944, 2951, 2971, 2974, 2986, 2987, 2995, 2998, 2999, 3004, 3009, 3016, 3024, 3029, 3032, 3038, 3038, 3041, 3045, 3059, 3060, 3077, 3079, 3082, 3083, 3099, 3104, 3107, 3109, 3110, 3125, 3129, 3130, 3132, 3151, 3153, 3156, 3162, 3164, 3169, 3171, 3174, 3175, 3191, 3200, 3205, 3213, 3215, 3221, 3222, 3236, 3248, 3256, 3260, 3271, 3281, 3282, 3283, 3284, 3295, 3296, 3307, 3308, 3310, 3312, 3323, 3332, 3349, 3354, 3367, 3367, 3369, 3375, 3378, 3390, 3395, 3396, 3402, 3408, 3425, 3426, 3435, 3438, 3463, 3464, 3468, 3475, 3482, 3486, 3491, 3494, 3496, 3505, 3521, 3531, 3536, 3537, 3538, 3540, 3542, 3545, 3548, 3551, 3555, 3570, 3571, 3573, 3574, 3583, 3588, 3598] 636\n"
     ]
    }
   ],
   "source": [
    "# Number of seconds\n",
    "total_seconds = 3600\n",
    "\n",
    "# Generate a list of random timestamps\n",
    "timestamps = [random.randint(0, total_seconds-1) for _ in range(random_number_rounded)]\n",
    "\n",
    "# Sort the timestamps in ascending order\n",
    "timestamps.sort()\n",
    "\n",
    "# Print the timestamps\n",
    "print(timestamps, len(timestamps))"
   ]
  },
  {
   "cell_type": "code",
   "execution_count": 16,
   "metadata": {},
   "outputs": [
    {
     "data": {
      "text/plain": [
       "636"
      ]
     },
     "execution_count": 16,
     "metadata": {},
     "output_type": "execute_result"
    }
   ],
   "source": [
    "from multiprocessing import Queue\n",
    "\n",
    "q = Queue()\n",
    "for t in timestamps:\n",
    "    q.put(t)\n",
    "    \n",
    "q.qsize()"
   ]
  },
  {
   "cell_type": "code",
   "execution_count": 19,
   "metadata": {},
   "outputs": [
    {
     "data": {
      "text/plain": [
       "'17'"
      ]
     },
     "execution_count": 19,
     "metadata": {},
     "output_type": "execute_result"
    }
   ],
   "source": [
    "current_hour = datetime.datetime.now().strftime(\"%H\")\n",
    "\n",
    "if current_hour > 9 and current_hour <= 23:\n",
    "    print('Open')"
   ]
  },
  {
   "cell_type": "code",
   "execution_count": 42,
   "metadata": {},
   "outputs": [
    {
     "data": {
      "text/plain": [
       "'00'"
      ]
     },
     "execution_count": 42,
     "metadata": {},
     "output_type": "execute_result"
    }
   ],
   "source": [
    "import datetime\n",
    "\n",
    "current_hour = datetime.datetime.now().strftime(\"%H\")\n",
    "current_hour = datetime.datetime.strptime(current_hour, \"%H\")\n",
    "new_hour = current_hour + datetime.timedelta(hours=7)\n",
    "new_hour = new_hour.strftime(\"%H\")\n",
    "new_hour"
   ]
  },
  {
   "cell_type": "code",
   "execution_count": 172,
   "metadata": {},
   "outputs": [
    {
     "data": {
      "text/plain": [
       "897"
      ]
     },
     "execution_count": 172,
     "metadata": {},
     "output_type": "execute_result"
    }
   ],
   "source": [
    "3600 - (int(datetime.datetime.now().strftime(\"%M\")) * 60 + int(datetime.datetime.now().strftime(\"%S\")))"
   ]
  },
  {
   "cell_type": "code",
   "execution_count": null,
   "metadata": {},
   "outputs": [],
   "source": []
  }
 ],
 "metadata": {
  "kernelspec": {
   "display_name": "base",
   "language": "python",
   "name": "python3"
  },
  "language_info": {
   "codemirror_mode": {
    "name": "ipython",
    "version": 3
   },
   "file_extension": ".py",
   "mimetype": "text/x-python",
   "name": "python",
   "nbconvert_exporter": "python",
   "pygments_lexer": "ipython3",
   "version": "3.11.5"
  }
 },
 "nbformat": 4,
 "nbformat_minor": 2
}
